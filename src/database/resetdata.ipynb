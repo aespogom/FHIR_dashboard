{
 "cells": [
  {
   "attachments": {},
   "cell_type": "markdown",
   "id": "3dcc0e23",
   "metadata": {},
   "source": [
    "# Reset database"
   ]
  },
  {
   "cell_type": "code",
   "execution_count": 6,
   "id": "500c8960",
   "metadata": {},
   "outputs": [],
   "source": [
    "import requests\n",
    "endpoint = \"https://firelyasserver-backup.azurewebsites.net/\""
   ]
  },
  {
   "cell_type": "code",
   "execution_count": 7,
   "id": "362e0cd6",
   "metadata": {},
   "outputs": [],
   "source": [
    "\n",
    "def delete_observation(endpoint,ID):\n",
    "    url = f\"{endpoint}Observation/{ID}\"\n",
    "    response = requests.request(\"DELETE\", url)\n",
    "    if response.status_code != 204:\n",
    "        print('Not deleted')\n",
    "\n",
    "def delete_procedure(endpoint,ID):\n",
    "    url = f\"{endpoint}Procedure/{ID}\"\n",
    "    response = requests.request(\"DELETE\", url)\n",
    "    if response.status_code != 204:\n",
    "        print('Not deleted')"
   ]
  },
  {
   "cell_type": "code",
   "execution_count": 8,
   "id": "3e113645",
   "metadata": {},
   "outputs": [],
   "source": [
    "def delete_observations_by_ID(endpoint):\n",
    "    url = f\"{endpoint}Observation?_count=10000&_elements=id\"\n",
    "    response = requests.request(\"GET\", url)\n",
    "    if response.status_code != 200:\n",
    "        print('Not list')\n",
    "    else:\n",
    "        list_observations = response.json()\n",
    "        print(list_observations['total'])\n",
    "        for index in range(0,list_observations['total']):\n",
    "            _id = list_observations['entry'][index]['resource']['id']\n",
    "            delete_observation(endpoint,_id)"
   ]
  },
  {
   "cell_type": "code",
   "execution_count": 9,
   "id": "c09ceddb",
   "metadata": {},
   "outputs": [],
   "source": [
    "def delete_procedures_by_ID(endpoint):\n",
    "    url = f\"{endpoint}Procedure?_count=10000&_elements=id\"\n",
    "    response = requests.request(\"GET\", url)\n",
    "    if response.status_code != 200:\n",
    "        print('Not list')\n",
    "    else:\n",
    "        list_observations = response.json()\n",
    "        print(list_observations['total'])\n",
    "        for index in range(0,list_observations['total']):\n",
    "            _id = list_observations['entry'][index]['resource']['id']\n",
    "            delete_procedure(endpoint,_id)"
   ]
  },
  {
   "cell_type": "code",
   "execution_count": 11,
   "id": "d270c2a3",
   "metadata": {},
   "outputs": [
    {
     "name": "stdout",
     "output_type": "stream",
     "text": [
      "744\n"
     ]
    }
   ],
   "source": [
    "delete_procedures_by_ID(endpoint)\n"
   ]
  },
  {
   "cell_type": "code",
   "execution_count": 14,
   "id": "4335004f",
   "metadata": {},
   "outputs": [
    {
     "name": "stdout",
     "output_type": "stream",
     "text": [
      "636\n"
     ]
    }
   ],
   "source": [
    "delete_observations_by_ID(endpoint)"
   ]
  }
 ],
 "metadata": {
  "kernelspec": {
   "display_name": "Python 3",
   "language": "python",
   "name": "python3"
  },
  "language_info": {
   "codemirror_mode": {
    "name": "ipython",
    "version": 3
   },
   "file_extension": ".py",
   "mimetype": "text/x-python",
   "name": "python",
   "nbconvert_exporter": "python",
   "pygments_lexer": "ipython3",
   "version": "3.9.16"
  }
 },
 "nbformat": 4,
 "nbformat_minor": 5
}
