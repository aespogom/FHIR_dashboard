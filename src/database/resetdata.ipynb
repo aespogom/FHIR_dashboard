{
 "cells": [
  {
   "attachments": {},
   "cell_type": "markdown",
   "id": "3dcc0e23",
   "metadata": {},
   "source": [
    "# Reset database"
   ]
  },
  {
   "cell_type": "code",
   "execution_count": 2,
   "id": "500c8960",
   "metadata": {},
   "outputs": [],
   "source": [
    "import requests\n",
    "endpoint = \"https://firelyasserver.azurewebsites.net/\""
   ]
  },
  {
   "cell_type": "code",
   "execution_count": 3,
   "id": "362e0cd6",
   "metadata": {},
   "outputs": [],
   "source": [
    "\n",
    "def delete_observation(endpoint,ID):\n",
    "    url = f\"{endpoint}Observation/{ID}\"\n",
    "    response = requests.request(\"DELETE\", url)\n",
    "    if response.status_code != 204:\n",
    "        print('Not deleted')\n",
    "\n",
    "def delete_procedure(endpoint,ID):\n",
    "    url = f\"{endpoint}Procedure/{ID}\"\n",
    "    response = requests.request(\"DELETE\", url)\n",
    "    if response.status_code != 204:\n",
    "        print('Not deleted')"
   ]
  },
  {
   "cell_type": "code",
   "execution_count": 20,
   "id": "3e113645",
   "metadata": {},
   "outputs": [],
   "source": [
    "def delete_observations_by_ID(endpoint):\n",
    "    total=1\n",
    "    while total != 0:\n",
    "        url = f\"{endpoint}Observation?_count=50&_elements=id\"\n",
    "        response = requests.request(\"GET\", url)\n",
    "        if response.status_code != 200:\n",
    "            print('Not list')\n",
    "            total=0\n",
    "        else:\n",
    "            list_observations = response.json()\n",
    "            print(list_observations['total']-len(list_observations['entry']))\n",
    "            total = len(list_observations['entry'])\n",
    "            for elem in list_observations['entry']:\n",
    "                _id = elem['resource']['id']\n",
    "                delete_observation(endpoint,_id)"
   ]
  },
  {
   "cell_type": "code",
   "execution_count": 11,
   "id": "c09ceddb",
   "metadata": {},
   "outputs": [],
   "source": [
    "def delete_procedures_by_ID(endpoint):\n",
    "    total=1\n",
    "    while total != 0:\n",
    "        url = f\"{endpoint}Procedure?_count=50&_elements=id\"\n",
    "        response = requests.request(\"GET\", url)\n",
    "        if response.status_code != 200:\n",
    "            print('Not list')\n",
    "            total=0\n",
    "        else:            \n",
    "            list_observations = response.json()\n",
    "            print(list_observations['total'])\n",
    "            total = int(list_observations['total'])\n",
    "            for elem in list_observations['entry']:\n",
    "                _id = elem['resource']['id']\n",
    "                delete_procedure(endpoint,_id)"
   ]
  },
  {
   "cell_type": "code",
   "execution_count": 13,
   "id": "93fd3c18",
   "metadata": {},
   "outputs": [
    {
     "name": "stdout",
     "output_type": "stream",
     "text": [
      "9\n"
     ]
    }
   ],
   "source": [
    "def delete_some_medicines(endpoint):\n",
    "    url = f\"{endpoint}Medication?_count=25&_elements=id\"\n",
    "    response = requests.request(\"GET\", url)\n",
    "    if response.status_code != 200:\n",
    "        print('Not list')\n",
    "    else:\n",
    "        list_observations = response.json()\n",
    "        print(list_observations['total'])\n",
    "        # for index in range(0,list_observations['total']):\n",
    "        #     _id = list_observations['entry'][index]['resource']['id']\n",
    "        #     url = f\"{endpoint}Medication/{_id}\"\n",
    "        #     response = requests.request(\"DELETE\", url)\n",
    "        #     if response.status_code != 204:\n",
    "        #         print('Not deleted')\n",
    "delete_some_medicines(endpoint)"
   ]
  },
  {
   "cell_type": "code",
   "execution_count": 20,
   "id": "d270c2a3",
   "metadata": {},
   "outputs": [
    {
     "name": "stdout",
     "output_type": "stream",
     "text": [
      "0\n"
     ]
    }
   ],
   "source": [
    "delete_procedures_by_ID(endpoint)\n"
   ]
  },
  {
   "cell_type": "code",
   "execution_count": 22,
   "id": "4335004f",
   "metadata": {},
   "outputs": [
    {
     "ename": "KeyError",
     "evalue": "'entry'",
     "output_type": "error",
     "traceback": [
      "\u001b[1;31m---------------------------------------------------------------------------\u001b[0m",
      "\u001b[1;31mKeyError\u001b[0m                                  Traceback (most recent call last)",
      "Cell \u001b[1;32mIn[22], line 1\u001b[0m\n\u001b[1;32m----> 1\u001b[0m delete_observations_by_ID(endpoint)\n",
      "Cell \u001b[1;32mIn[20], line 11\u001b[0m, in \u001b[0;36mdelete_observations_by_ID\u001b[1;34m(endpoint)\u001b[0m\n\u001b[0;32m      9\u001b[0m \u001b[39melse\u001b[39;00m:\n\u001b[0;32m     10\u001b[0m     list_observations \u001b[39m=\u001b[39m response\u001b[39m.\u001b[39mjson()\n\u001b[1;32m---> 11\u001b[0m     \u001b[39mprint\u001b[39m(list_observations[\u001b[39m'\u001b[39m\u001b[39mtotal\u001b[39m\u001b[39m'\u001b[39m]\u001b[39m-\u001b[39m\u001b[39mlen\u001b[39m(list_observations[\u001b[39m'\u001b[39;49m\u001b[39mentry\u001b[39;49m\u001b[39m'\u001b[39;49m]))\n\u001b[0;32m     12\u001b[0m     total \u001b[39m=\u001b[39m \u001b[39mlen\u001b[39m(list_observations[\u001b[39m'\u001b[39m\u001b[39mentry\u001b[39m\u001b[39m'\u001b[39m])\n\u001b[0;32m     13\u001b[0m     \u001b[39mfor\u001b[39;00m elem \u001b[39min\u001b[39;00m list_observations[\u001b[39m'\u001b[39m\u001b[39mentry\u001b[39m\u001b[39m'\u001b[39m]:\n",
      "\u001b[1;31mKeyError\u001b[0m: 'entry'"
     ]
    }
   ],
   "source": [
    "delete_observations_by_ID(endpoint)"
   ]
  }
 ],
 "metadata": {
  "kernelspec": {
   "display_name": "Python 3",
   "language": "python",
   "name": "python3"
  },
  "language_info": {
   "codemirror_mode": {
    "name": "ipython",
    "version": 3
   },
   "file_extension": ".py",
   "mimetype": "text/x-python",
   "name": "python",
   "nbconvert_exporter": "python",
   "pygments_lexer": "ipython3",
   "version": "3.9.16"
  }
 },
 "nbformat": 4,
 "nbformat_minor": 5
}
