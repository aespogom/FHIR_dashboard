{
 "cells": [
  {
   "attachments": {},
   "cell_type": "markdown",
   "id": "3dcc0e23",
   "metadata": {},
   "source": [
    "# Reset database"
   ]
  },
  {
   "cell_type": "code",
   "execution_count": 5,
   "id": "500c8960",
   "metadata": {},
   "outputs": [],
   "source": [
    "import requests\n",
    "import json\n",
    "\n",
    "def delete_observation(ID):\n",
    "    url = f\"https://firelyasserver.azurewebsites.net/Observation/{ID}\"\n",
    "    response = requests.request(\"DELETE\", url)\n",
    "    if response.status_code != 204:\n",
    "        print('Not deleted')\n",
    "\n",
    "def delete_procedure(ID):\n",
    "    url = f\"https://firelyasserver.azurewebsites.net/Procedure/{ID}\"\n",
    "    response = requests.request(\"DELETE\", url)\n",
    "    if response.status_code != 204:\n",
    "        print('Not deleted')"
   ]
  },
  {
   "cell_type": "code",
   "execution_count": 6,
   "id": "3e113645",
   "metadata": {},
   "outputs": [],
   "source": [
    "def delete_observations_by_ID():\n",
    "    url = f\"https://firelyasserver.azurewebsites.net/Observation?_count=10000\"\n",
    "    response = requests.request(\"GET\", url)\n",
    "    if response.status_code != 200:\n",
    "        print('Not list')\n",
    "    else:\n",
    "        list_observations = response.json()\n",
    "        print(list_observations['total'])\n",
    "        for index in range(0,list_observations['total']):\n",
    "            _id = list_observations['entry'][index]['resource']['id']\n",
    "            delete_observation(_id)"
   ]
  },
  {
   "cell_type": "code",
   "execution_count": 7,
   "id": "c09ceddb",
   "metadata": {},
   "outputs": [],
   "source": [
    "def delete_procedures_by_ID():\n",
    "    url = f\"https://firelyasserver.azurewebsites.net/Procedure?_count=10000\"\n",
    "    response = requests.request(\"GET\", url)\n",
    "    if response.status_code != 200:\n",
    "        print('Not list')\n",
    "    else:\n",
    "        list_observations = response.json()\n",
    "        print(list_observations['total'])\n",
    "        for index in range(0,list_observations['total']):\n",
    "            _id = list_observations['entry'][index]['resource']['id']\n",
    "            delete_procedure(_id)"
   ]
  },
  {
   "cell_type": "code",
   "execution_count": 8,
   "id": "d270c2a3",
   "metadata": {},
   "outputs": [
    {
     "name": "stdout",
     "output_type": "stream",
     "text": [
      "0\n",
      "6\n"
     ]
    }
   ],
   "source": [
    "delete_procedures_by_ID()\n",
    "delete_observations_by_ID()"
   ]
  }
 ],
 "metadata": {
  "kernelspec": {
   "display_name": "Python 3",
   "language": "python",
   "name": "python3"
  },
  "language_info": {
   "codemirror_mode": {
    "name": "ipython",
    "version": 3
   },
   "file_extension": ".py",
   "mimetype": "text/x-python",
   "name": "python",
   "nbconvert_exporter": "python",
   "pygments_lexer": "ipython3",
   "version": "3.9.16"
  }
 },
 "nbformat": 4,
 "nbformat_minor": 5
}
